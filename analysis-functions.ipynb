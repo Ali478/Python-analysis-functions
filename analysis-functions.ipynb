{
  "nbformat": 4,
  "nbformat_minor": 0,
  "metadata": {
    "colab": {
      "provenance": [],
      "collapsed_sections": [
        "VSbNDdaKfzgg",
        "Ekq9VeQOgnbk"
      ]
    },
    "kernelspec": {
      "name": "python3",
      "display_name": "Python 3"
    },
    "language_info": {
      "name": "python"
    }
  },
  "cells": [
    {
      "cell_type": "markdown",
      "source": [
        "\n",
        "\n",
        "---\n",
        "\n"
      ],
      "metadata": {
        "id": "J1cJ3QQimtKZ"
      }
    },
    {
      "cell_type": "markdown",
      "source": [
        "# **Libraries**"
      ],
      "metadata": {
        "id": "mBsJhG5vld9A"
      }
    },
    {
      "cell_type": "code",
      "execution_count": null,
      "metadata": {
        "id": "PwhGTpsNeUHE"
      },
      "outputs": [],
      "source": [
        "from sklearn.linear_model import LinearRegression\n",
        "import numpy as np\n",
        "import statsmodels.api as sm\n",
        "import random\n",
        "from scipy import stats\n",
        "from scipy.stats import skew\n",
        "import pylab\n",
        "import statistics \n",
        "from scipy.stats import binom\n",
        "import pandas as pd\n",
        "from matplotlib import pyplot as plt\n",
        "from scipy.stats import poisson\n",
        "import seaborn as sns"
      ]
    },
    {
      "cell_type": "markdown",
      "source": [
        "# **Distribution**"
      ],
      "metadata": {
        "id": "JLbh4gv5jiQX"
      }
    },
    {
      "cell_type": "markdown",
      "source": [
        "**Binomial Distribution**"
      ],
      "metadata": {
        "id": "l-pxPo0djlvO"
      }
    },
    {
      "cell_type": "code",
      "source": [
        "from scipy.stats import binom\n",
        "\n",
        "n = 6\n",
        "p = 0.6\n",
        "\n",
        "r_values = list(range(n + 1))\n",
        "\n",
        "mean, var = binom.stats(n, p)\n",
        "\n",
        "\n",
        "dist = [binom.pmf(r, n, p) for r in r_values]\n",
        "\n",
        "df = pd.DataFrame(list(zip(r_values, dist)), columns = ['r', 'p(r)'], index = None)\n",
        "\n",
        "df"
      ],
      "metadata": {
        "colab": {
          "base_uri": "https://localhost:8080/",
          "height": 269
        },
        "id": "jD0-Gx44jrrq",
        "outputId": "28fd81d5-046e-4bae-bbbf-5a70f7817d84"
      },
      "execution_count": null,
      "outputs": [
        {
          "output_type": "execute_result",
          "data": {
            "text/plain": [
              "   r      p(r)\n",
              "0  0  0.004096\n",
              "1  1  0.036864\n",
              "2  2  0.138240\n",
              "3  3  0.276480\n",
              "4  4  0.311040\n",
              "5  5  0.186624\n",
              "6  6  0.046656"
            ],
            "text/html": [
              "\n",
              "  <div id=\"df-67647655-9cae-4a67-9326-c800c20a2da9\">\n",
              "    <div class=\"colab-df-container\">\n",
              "      <div>\n",
              "<style scoped>\n",
              "    .dataframe tbody tr th:only-of-type {\n",
              "        vertical-align: middle;\n",
              "    }\n",
              "\n",
              "    .dataframe tbody tr th {\n",
              "        vertical-align: top;\n",
              "    }\n",
              "\n",
              "    .dataframe thead th {\n",
              "        text-align: right;\n",
              "    }\n",
              "</style>\n",
              "<table border=\"1\" class=\"dataframe\">\n",
              "  <thead>\n",
              "    <tr style=\"text-align: right;\">\n",
              "      <th></th>\n",
              "      <th>r</th>\n",
              "      <th>p(r)</th>\n",
              "    </tr>\n",
              "  </thead>\n",
              "  <tbody>\n",
              "    <tr>\n",
              "      <th>0</th>\n",
              "      <td>0</td>\n",
              "      <td>0.004096</td>\n",
              "    </tr>\n",
              "    <tr>\n",
              "      <th>1</th>\n",
              "      <td>1</td>\n",
              "      <td>0.036864</td>\n",
              "    </tr>\n",
              "    <tr>\n",
              "      <th>2</th>\n",
              "      <td>2</td>\n",
              "      <td>0.138240</td>\n",
              "    </tr>\n",
              "    <tr>\n",
              "      <th>3</th>\n",
              "      <td>3</td>\n",
              "      <td>0.276480</td>\n",
              "    </tr>\n",
              "    <tr>\n",
              "      <th>4</th>\n",
              "      <td>4</td>\n",
              "      <td>0.311040</td>\n",
              "    </tr>\n",
              "    <tr>\n",
              "      <th>5</th>\n",
              "      <td>5</td>\n",
              "      <td>0.186624</td>\n",
              "    </tr>\n",
              "    <tr>\n",
              "      <th>6</th>\n",
              "      <td>6</td>\n",
              "      <td>0.046656</td>\n",
              "    </tr>\n",
              "  </tbody>\n",
              "</table>\n",
              "</div>\n",
              "      <button class=\"colab-df-convert\" onclick=\"convertToInteractive('df-67647655-9cae-4a67-9326-c800c20a2da9')\"\n",
              "              title=\"Convert this dataframe to an interactive table.\"\n",
              "              style=\"display:none;\">\n",
              "        \n",
              "  <svg xmlns=\"http://www.w3.org/2000/svg\" height=\"24px\"viewBox=\"0 0 24 24\"\n",
              "       width=\"24px\">\n",
              "    <path d=\"M0 0h24v24H0V0z\" fill=\"none\"/>\n",
              "    <path d=\"M18.56 5.44l.94 2.06.94-2.06 2.06-.94-2.06-.94-.94-2.06-.94 2.06-2.06.94zm-11 1L8.5 8.5l.94-2.06 2.06-.94-2.06-.94L8.5 2.5l-.94 2.06-2.06.94zm10 10l.94 2.06.94-2.06 2.06-.94-2.06-.94-.94-2.06-.94 2.06-2.06.94z\"/><path d=\"M17.41 7.96l-1.37-1.37c-.4-.4-.92-.59-1.43-.59-.52 0-1.04.2-1.43.59L10.3 9.45l-7.72 7.72c-.78.78-.78 2.05 0 2.83L4 21.41c.39.39.9.59 1.41.59.51 0 1.02-.2 1.41-.59l7.78-7.78 2.81-2.81c.8-.78.8-2.07 0-2.86zM5.41 20L4 18.59l7.72-7.72 1.47 1.35L5.41 20z\"/>\n",
              "  </svg>\n",
              "      </button>\n",
              "      \n",
              "  <style>\n",
              "    .colab-df-container {\n",
              "      display:flex;\n",
              "      flex-wrap:wrap;\n",
              "      gap: 12px;\n",
              "    }\n",
              "\n",
              "    .colab-df-convert {\n",
              "      background-color: #E8F0FE;\n",
              "      border: none;\n",
              "      border-radius: 50%;\n",
              "      cursor: pointer;\n",
              "      display: none;\n",
              "      fill: #1967D2;\n",
              "      height: 32px;\n",
              "      padding: 0 0 0 0;\n",
              "      width: 32px;\n",
              "    }\n",
              "\n",
              "    .colab-df-convert:hover {\n",
              "      background-color: #E2EBFA;\n",
              "      box-shadow: 0px 1px 2px rgba(60, 64, 67, 0.3), 0px 1px 3px 1px rgba(60, 64, 67, 0.15);\n",
              "      fill: #174EA6;\n",
              "    }\n",
              "\n",
              "    [theme=dark] .colab-df-convert {\n",
              "      background-color: #3B4455;\n",
              "      fill: #D2E3FC;\n",
              "    }\n",
              "\n",
              "    [theme=dark] .colab-df-convert:hover {\n",
              "      background-color: #434B5C;\n",
              "      box-shadow: 0px 1px 3px 1px rgba(0, 0, 0, 0.15);\n",
              "      filter: drop-shadow(0px 1px 2px rgba(0, 0, 0, 0.3));\n",
              "      fill: #FFFFFF;\n",
              "    }\n",
              "  </style>\n",
              "\n",
              "      <script>\n",
              "        const buttonEl =\n",
              "          document.querySelector('#df-67647655-9cae-4a67-9326-c800c20a2da9 button.colab-df-convert');\n",
              "        buttonEl.style.display =\n",
              "          google.colab.kernel.accessAllowed ? 'block' : 'none';\n",
              "\n",
              "        async function convertToInteractive(key) {\n",
              "          const element = document.querySelector('#df-67647655-9cae-4a67-9326-c800c20a2da9');\n",
              "          const dataTable =\n",
              "            await google.colab.kernel.invokeFunction('convertToInteractive',\n",
              "                                                     [key], {});\n",
              "          if (!dataTable) return;\n",
              "\n",
              "          const docLinkHtml = 'Like what you see? Visit the ' +\n",
              "            '<a target=\"_blank\" href=https://colab.research.google.com/notebooks/data_table.ipynb>data table notebook</a>'\n",
              "            + ' to learn more about interactive tables.';\n",
              "          element.innerHTML = '';\n",
              "          dataTable['output_type'] = 'display_data';\n",
              "          await google.colab.output.renderOutput(dataTable, element);\n",
              "          const docLink = document.createElement('div');\n",
              "          docLink.innerHTML = docLinkHtml;\n",
              "          element.appendChild(docLink);\n",
              "        }\n",
              "      </script>\n",
              "    </div>\n",
              "  </div>\n",
              "  "
            ]
          },
          "metadata": {},
          "execution_count": 13
        }
      ]
    },
    {
      "cell_type": "code",
      "source": [
        "df['p(r)'].plot.bar()"
      ],
      "metadata": {
        "colab": {
          "base_uri": "https://localhost:8080/",
          "height": 279
        },
        "id": "u4OnbHX8j54T",
        "outputId": "dbae9974-2794-40bd-fe80-2c22d9126342"
      },
      "execution_count": null,
      "outputs": [
        {
          "output_type": "execute_result",
          "data": {
            "text/plain": [
              "<matplotlib.axes._subplots.AxesSubplot at 0x7f269236e950>"
            ]
          },
          "metadata": {},
          "execution_count": 14
        },
        {
          "output_type": "display_data",
          "data": {
            "text/plain": [
              "<Figure size 432x288 with 1 Axes>"
            ],
            "image/png": "[encoded data removed]"
          },
          "metadata": {
            "needs_background": "light"
          }
        }
      ]
    },
    {
      "cell_type": "markdown",
      "source": [
        "**Normal Distribution**"
      ],
      "metadata": {
        "id": "PX7PJKQ4j77a"
      }
    },
    {
      "cell_type": "code",
      "source": [
        "mu, sigma = 0.5, 1"
      ],
      "metadata": {
        "id": "D3QSLhIekEdp"
      },
      "execution_count": null,
      "outputs": []
    },
    {
      "cell_type": "code",
      "source": [
        "data = np.random.normal(mu, sigma, 10000)"
      ],
      "metadata": {
        "id": "mnstK3KEkHjR"
      },
      "execution_count": null,
      "outputs": []
    },
    {
      "cell_type": "code",
      "source": [
        "count, bins, ignored = plt.hist(data, 20)"
      ],
      "metadata": {
        "colab": {
          "base_uri": "https://localhost:8080/",
          "height": 265
        },
        "id": "2Sd1Pa2fkNvT",
        "outputId": "f208475e-a1f6-4c9b-d6bd-fbaeffe3ac73"
      },
      "execution_count": null,
      "outputs": [
        {
          "output_type": "display_data",
          "data": {
            "text/plain": [
              "<Figure size 432x288 with 1 Axes>"
            ],
            "image/png": "[encoded data removed]"
          },
          "metadata": {
            "needs_background": "light"
          }
        }
      ]
    },
    {
      "cell_type": "markdown",
      "source": [
        "**Poisson Distribution**"
      ],
      "metadata": {
        "id": "ithknzgRkemW"
      }
    },
    {
      "cell_type": "code",
      "source": [
        "data_poisson =poisson.rvs(mu = 3, size = 10000, random_state= 2021)"
      ],
      "metadata": {
        "id": "aLBA922BkbXo"
      },
      "execution_count": null,
      "outputs": []
    },
    {
      "cell_type": "code",
      "source": [
        "#pip install -U statsmodels"
      ],
      "metadata": {
        "id": "S_5GUPKqk2Gq"
      },
      "execution_count": null,
      "outputs": []
    },
    {
      "cell_type": "code",
      "source": [
        "sns.distplot(data_poisson, bins = 30, kde = False, \n",
        "            color = 'skyblue',\n",
        "             hist_kws = {'linewidth' : 15, 'alpha' : 1}\n",
        "            )"
      ],
      "metadata": {
        "colab": {
          "base_uri": "https://localhost:8080/",
          "height": 337
        },
        "id": "epL1zcHTkr1V",
        "outputId": "22028e60-15c4-4ec0-a802-e9b944d93293"
      },
      "execution_count": null,
      "outputs": [
        {
          "output_type": "stream",
          "name": "stderr",
          "text": [
            "/usr/local/lib/python3.7/dist-packages/seaborn/distributions.py:2619: FutureWarning: `distplot` is a deprecated function and will be removed in a future version. Please adapt your code to use either `displot` (a figure-level function with similar flexibility) or `histplot` (an axes-level function for histograms).\n",
            "  warnings.warn(msg, FutureWarning)\n"
          ]
        },
        {
          "output_type": "execute_result",
          "data": {
            "text/plain": [
              "<matplotlib.axes._subplots.AxesSubplot at 0x7f26921bbb90>"
            ]
          },
          "metadata": {},
          "execution_count": 20
        },
        {
          "output_type": "display_data",
          "data": {
            "text/plain": [
              "<Figure size 432x288 with 1 Axes>"
            ],
            "image/png": "[encoded data removed]"
          },
          "metadata": {
            "needs_background": "light"
          }
        }
      ]
    },
    {
      "cell_type": "markdown",
      "source": [
        "# **Measuring Correlation**"
      ],
      "metadata": {
        "id": "VSbNDdaKfzgg"
      }
    },
    {
      "cell_type": "code",
      "source": [
        "random.seed(2021)\n",
        "lst1 = random.sample(range(100), 50)\n",
        "print(\"Elements of 1st list -> \", lst1, \"\\n\")\n",
        "\n",
        "\n",
        "lst2 = random.sample(range(100), 50)\n",
        "print(\"Elements of 2nd list -> \", lst2, \"\\n\")"
      ],
      "metadata": {
        "colab": {
          "base_uri": "https://localhost:8080/"
        },
        "id": "lbZbxsWgf1gG",
        "outputId": "65c1860c-1fee-4592-fdf2-52cc2890451f"
      },
      "execution_count": null,
      "outputs": [
        {
          "output_type": "stream",
          "name": "stdout",
          "text": [
            "Elements of 1st list ->  [51, 80, 69, 35, 31, 81, 4, 56, 60, 73, 8, 40, 34, 37, 91, 9, 20, 21, 6, 13, 70, 86, 94, 68, 59, 14, 25, 92, 96, 67, 43, 47, 50, 74, 28, 95, 75, 65, 30, 7, 41, 87, 66, 29, 61, 18, 89, 17, 0, 1] \n",
            "\n",
            "Elements of 2nd list ->  [68, 96, 29, 24, 21, 31, 51, 54, 74, 83, 47, 88, 33, 6, 35, 9, 10, 22, 91, 57, 28, 81, 17, 92, 50, 34, 55, 82, 76, 77, 60, 36, 13, 44, 1, 80, 37, 72, 40, 7, 4, 32, 5, 27, 20, 63, 86, 46, 53, 90] \n",
            "\n"
          ]
        }
      ]
    },
    {
      "cell_type": "code",
      "source": [
        "corr, _ = stats.pearsonr(lst1, lst2)\n",
        "\n",
        "print(\"Pearsons correlation : \", corr)"
      ],
      "metadata": {
        "colab": {
          "base_uri": "https://localhost:8080/"
        },
        "id": "esfD1YzNgFpB",
        "outputId": "27009428-01ec-4cd0-b64e-aa1736cd9a78"
      },
      "execution_count": null,
      "outputs": [
        {
          "output_type": "stream",
          "name": "stdout",
          "text": [
            "Pearsons correlation :  0.23250778094287386\n"
          ]
        }
      ]
    },
    {
      "cell_type": "markdown",
      "source": [
        "# **Measuring Variance**"
      ],
      "metadata": {
        "id": "Ekq9VeQOgnbk"
      }
    },
    {
      "cell_type": "code",
      "source": [
        "def variance(data):\n",
        "    \n",
        "    n = len(data)\n",
        "    \n",
        "    mean = sum(data)/n\n",
        "    \n",
        "    deviations = [(x - mean) ** 2 for x in data]\n",
        "    \n",
        "    variance = sum(deviations) / n\n",
        "    \n",
        "    return variance"
      ],
      "metadata": {
        "id": "eCB5KrHVgqRq"
      },
      "execution_count": null,
      "outputs": []
    },
    {
      "cell_type": "code",
      "source": [
        "random.seed(2021)\n",
        "data = random.sample(range(1000), 10)\n",
        "\n",
        "variance(data)"
      ],
      "metadata": {
        "colab": {
          "base_uri": "https://localhost:8080/"
        },
        "id": "uzXqJTaTgtKH",
        "outputId": "dcb04e2d-c25a-4d76-dff4-2b4083cd2cac"
      },
      "execution_count": null,
      "outputs": [
        {
          "output_type": "execute_result",
          "data": {
            "text/plain": [
              "78529.56"
            ]
          },
          "metadata": {},
          "execution_count": 24
        }
      ]
    },
    {
      "cell_type": "code",
      "source": [
        "def variance(data , dof = 0):\n",
        "    \n",
        "    n = len(data)\n",
        "    mean = sum(data) / n\n",
        "    \n",
        "    return sum((x - mean)** 2 for x in data) / (n - dof)"
      ],
      "metadata": {
        "id": "IsB97NxSg1o_"
      },
      "execution_count": null,
      "outputs": []
    },
    {
      "cell_type": "code",
      "source": [
        "print(\"Varince =\"); variance(data, dof = 1)"
      ],
      "metadata": {
        "colab": {
          "base_uri": "https://localhost:8080/"
        },
        "id": "wnf87rRYg3Fy",
        "outputId": "7f1b6843-7b7e-46d0-9fb9-9e51f3cbdea0"
      },
      "execution_count": null,
      "outputs": [
        {
          "output_type": "stream",
          "name": "stdout",
          "text": [
            "Varince =\n"
          ]
        },
        {
          "output_type": "execute_result",
          "data": {
            "text/plain": [
              "87255.06666666667"
            ]
          },
          "metadata": {},
          "execution_count": 26
        }
      ]
    },
    {
      "cell_type": "markdown",
      "source": [
        "# **Dispersion**"
      ],
      "metadata": {
        "id": "46gbdgcuhNZr"
      }
    },
    {
      "cell_type": "markdown",
      "source": [
        "**a. Skewness**"
      ],
      "metadata": {
        "id": "pQyLBzQ_hUDJ"
      }
    },
    {
      "cell_type": "code",
      "source": [
        "x1 = np.linspace(-10, 10, 1000)\n",
        "y1 = 1./ (np.sqrt(2. * np.pi)) * np.exp(-.5 * (x1) ** 2)\n",
        "\n",
        "pylab.plot(x1, y1)\n",
        "\n",
        "print(\"Skewness of the data --> \", skew(y1))"
      ],
      "metadata": {
        "colab": {
          "base_uri": "https://localhost:8080/",
          "height": 282
        },
        "id": "jZ79RT63hPeh",
        "outputId": "a35cf16d-1eed-4009-8896-652cfa2616ea"
      },
      "execution_count": null,
      "outputs": [
        {
          "output_type": "stream",
          "name": "stdout",
          "text": [
            "Skewness of the data -->  2.184420217406685\n"
          ]
        },
        {
          "output_type": "display_data",
          "data": {
            "text/plain": [
              "<Figure size 432x288 with 1 Axes>"
            ],
            "image/png": "[encoded data removed]"
          },
          "metadata": {
            "needs_background": "light"
          }
        }
      ]
    },
    {
      "cell_type": "code",
      "source": [
        "x1 = np.linspace(-5, 10, 1000)\n",
        "y1 = 1./ (np.sqrt(2. * np.pi)) * np.exp(-.5 * (x1) ** 2)\n",
        "\n",
        "pylab.plot(x1, y1)\n",
        "\n",
        "print(\"Skewness of the data -> \", skew(y1))"
      ],
      "metadata": {
        "colab": {
          "base_uri": "https://localhost:8080/",
          "height": 282
        },
        "id": "PiFzxJ1zhmhZ",
        "outputId": "ae8821d9-f023-445a-f190-8a3a36e2b821"
      },
      "execution_count": null,
      "outputs": [
        {
          "output_type": "stream",
          "name": "stdout",
          "text": [
            "Skewness of the data ->  1.719723672010651\n"
          ]
        },
        {
          "output_type": "display_data",
          "data": {
            "text/plain": [
              "<Figure size 432x288 with 1 Axes>"
            ],
            "image/png": "[encoded data removed]"
          },
          "metadata": {
            "needs_background": "light"
          }
        }
      ]
    },
    {
      "cell_type": "code",
      "source": [
        "x = np.random.normal(0, 2, 10000)\n",
        "\n",
        "\n",
        "print(\"X: \\n\", x)\n",
        "\n",
        "print(\"\\nSkewness for data : \", skew(x))"
      ],
      "metadata": {
        "colab": {
          "base_uri": "https://localhost:8080/"
        },
        "id": "IZmhUM_JhpnN",
        "outputId": "7a17c62d-0054-42ea-ce19-c297d6ce0ca6"
      },
      "execution_count": null,
      "outputs": [
        {
          "output_type": "stream",
          "name": "stdout",
          "text": [
            "X: \n",
            " [ 1.25951548  1.17232729  2.04720866 ...  2.77918199 -0.0566686\n",
            " -1.28725398]\n",
            "\n",
            "Skewness for data :  -0.012813746910691676\n"
          ]
        }
      ]
    },
    {
      "cell_type": "markdown",
      "source": [
        "**b. Kurtosis**"
      ],
      "metadata": {
        "id": "o6ZnCUd7hs0h"
      }
    },
    {
      "cell_type": "code",
      "source": [
        "x = np.linspace(-10, 10, 1000)\n",
        "y1 = 1./(np.sqrt(2.*np.pi)) * np.exp( -.5*(x1)**2  )\n",
        "\n",
        "\n",
        "pylab.plot(x,y1, '*')\n",
        "\n",
        "print(\"Kurtosis for normal distribution : \", stats.kurtosis(y1))\n",
        "\n",
        "print(\"Kurtosis for normal distribution : \", stats.kurtosis(y1, fisher = False))\n",
        "\n",
        "print(\"Kurtosis for normal distribution : \", stats.kurtosis(y1, fisher = True))"
      ],
      "metadata": {
        "colab": {
          "base_uri": "https://localhost:8080/",
          "height": 317
        },
        "id": "HGwhU-OMhuI-",
        "outputId": "1dcdc4a9-3ae1-480f-c5b1-4cc74a9967d7"
      },
      "execution_count": null,
      "outputs": [
        {
          "output_type": "stream",
          "name": "stdout",
          "text": [
            "Kurtosis for normal distribution :  1.4908202196578797\n",
            "Kurtosis for normal distribution :  4.49082021965788\n",
            "Kurtosis for normal distribution :  1.4908202196578797\n"
          ]
        },
        {
          "output_type": "display_data",
          "data": {
            "text/plain": [
              "<Figure size 432x288 with 1 Axes>"
            ],
            "image/png": "[encoded data removed]"
          },
          "metadata": {
            "needs_background": "light"
          }
        }
      ]
    },
    {
      "cell_type": "markdown",
      "source": [
        "**c. Range**"
      ],
      "metadata": {
        "id": "-FM_wph_hz0Q"
      }
    },
    {
      "cell_type": "code",
      "source": [
        "random.seed(2021)\n",
        "data1 = random.sample(range(-1000, 1000), 100)\n",
        "#data1"
      ],
      "metadata": {
        "id": "8fEzi5gCh1Uk"
      },
      "execution_count": null,
      "outputs": []
    },
    {
      "cell_type": "code",
      "source": [
        "min_value = min(data1)\n",
        "\n",
        "max_value = max(data1)\n",
        "\n",
        "print(f\"Range of the dataset -> [{min_value},{max_value}]\")"
      ],
      "metadata": {
        "colab": {
          "base_uri": "https://localhost:8080/"
        },
        "id": "B4ODJ7vFh4wy",
        "outputId": "d403e429-cd1c-4cab-e89b-09b7281ad329"
      },
      "execution_count": null,
      "outputs": [
        {
          "output_type": "stream",
          "name": "stdout",
          "text": [
            "Range of the dataset -> [-990,993]\n"
          ]
        }
      ]
    },
    {
      "cell_type": "markdown",
      "source": [
        "**d. Interquartile Range**"
      ],
      "metadata": {
        "id": "_mH4npJKh7th"
      }
    },
    {
      "cell_type": "code",
      "source": [
        "random.seed(2021)\n",
        "\n",
        "data = random.sample(range(1000), 30)\n",
        "\n",
        "print(f\"Dataset -> {data}\\n\\n\")\n",
        "IQR = stats.iqr(data, interpolation = 'midpoint')\n",
        "\n",
        "print(IQR)"
      ],
      "metadata": {
        "colab": {
          "base_uri": "https://localhost:8080/"
        },
        "id": "9BtIIkCsiGEw",
        "outputId": "0f3c2a03-1424-4f30-867d-cb2f8dd1cbff"
      },
      "execution_count": null,
      "outputs": [
        {
          "output_type": "stream",
          "name": "stdout",
          "text": [
            "Dataset -> [856, 413, 878, 644, 557, 283, 253, 899, 650, 35, 996, 454, 485, 588, 65, 320, 276, 303, 486, 78, 935, 909, 165, 168, 849, 54, 761, 106, 689, 733]\n",
            "\n",
            "\n",
            "482.5\n"
          ]
        }
      ]
    },
    {
      "cell_type": "markdown",
      "source": [
        "**e. Variance**"
      ],
      "metadata": {
        "id": "3xbB_rPQiLdv"
      }
    },
    {
      "cell_type": "code",
      "source": [
        "print(f\"Variance of the sample set --> {statistics.variance(data)}\")"
      ],
      "metadata": {
        "colab": {
          "base_uri": "https://localhost:8080/"
        },
        "id": "fjZG8vS7iJcz",
        "outputId": "2e207f30-58c5-4592-ff81-bdaaf26c83d4"
      },
      "execution_count": null,
      "outputs": [
        {
          "output_type": "stream",
          "name": "stdout",
          "text": [
            "Variance of the sample set --> 95338.27126436781\n"
          ]
        }
      ]
    },
    {
      "cell_type": "code",
      "source": [
        "stats.zscore(data)"
      ],
      "metadata": {
        "colab": {
          "base_uri": "https://localhost:8080/"
        },
        "id": "9kiAIUxmizgu",
        "outputId": "8831cb44-983f-46f4-ef1c-f0f20d4c1c07"
      },
      "execution_count": null,
      "outputs": [
        {
          "output_type": "execute_result",
          "data": {
            "text/plain": [
              "array([ 1.1849736 , -0.27428318,  1.25744233,  0.48663853,  0.20005763,\n",
              "       -0.70250751, -0.80132851,  1.32661703,  0.50640273, -1.51942778,\n",
              "        1.64613827, -0.13922781, -0.03711278,  0.30217266, -1.42060678,\n",
              "       -0.58062828, -0.72556575, -0.63662685, -0.03381874, -1.37778435,\n",
              "        1.44520223,  1.35955737, -1.09120345, -1.08132135,  1.16191536,\n",
              "       -1.45684115,  0.87204043, -1.28555142,  0.63487003,  0.7798075 ])"
            ]
          },
          "metadata": {},
          "execution_count": 35
        }
      ]
    },
    {
      "cell_type": "markdown",
      "source": [
        "**g. Coefficient of Variation**"
      ],
      "metadata": {
        "id": "R8Quw1GEivZy"
      }
    },
    {
      "cell_type": "code",
      "source": [
        "np.random.seed(2021)\n",
        "data1 = np.random.randn(5,5)\n",
        "\n",
        "print(\"\\nVariation at axis = 0: \\n\", stats.variation(data1, axis = 0))\n",
        "print(\"\\nVariation at axis = 1: \\n\", stats.variation(data1, axis = 1))"
      ],
      "metadata": {
        "colab": {
          "base_uri": "https://localhost:8080/"
        },
        "id": "3EIHy9_ri6A0",
        "outputId": "aa350c9b-6945-4160-eae6-a4313da9f258"
      },
      "execution_count": null,
      "outputs": [
        {
          "output_type": "stream",
          "name": "stdout",
          "text": [
            "\n",
            "Variation at axis = 0: \n",
            " [ 3.52845528  3.3470547   1.80598357 -1.59881564 -5.15100563]\n",
            "\n",
            "Variation at axis = 1: \n",
            " [ 2.74078274  1.91282102 -2.02345542 -3.0812028   2.00687297]\n"
          ]
        }
      ]
    },
    {
      "cell_type": "markdown",
      "source": [
        "# **Linear Regression Analysis**"
      ],
      "metadata": {
        "id": "gn_CtT6Oe-s8"
      }
    },
    {
      "cell_type": "code",
      "source": [
        "X = np.array([5, 15, 25, 35, 45, 55]).reshape((-1, 1))\n",
        "y = np.array([5, 20, 14, 32, 22, 38])\n",
        "\n",
        "model = LinearRegression()\n",
        "\n",
        "model.fit(X,y)\n",
        "\n",
        "r2_score = model.score(X,y)\n",
        "print(\"Coefficient of Determination -> \" , r2_score)\n",
        "\n",
        "print(\"Intercept -> \", model.intercept_)\n",
        "print(\"Slope -> \", model.coef_)"
      ],
      "metadata": {
        "colab": {
          "base_uri": "https://localhost:8080/"
        },
        "id": "1D9onqWseZcs",
        "outputId": "dd953183-48d9-46a3-9d67-1a7d319041d0"
      },
      "execution_count": null,
      "outputs": [
        {
          "output_type": "stream",
          "name": "stdout",
          "text": [
            "Coefficient of Determination ->  0.7158756137479542\n",
            "Intercept ->  5.633333333333329\n",
            "Slope ->  [0.54]\n"
          ]
        }
      ]
    },
    {
      "cell_type": "markdown",
      "source": [
        "**Multiple Regression Analysis**"
      ],
      "metadata": {
        "id": "xxQT-Aave7WF"
      }
    },
    {
      "cell_type": "code",
      "source": [
        "x = [[0, 1], [5, 1], [15, 2], [25, 5], [35, 11], [45, 15], [55, 34], [60, 35]]\n",
        "y = [4, 5, 20, 14, 32, 22, 38, 43]\n",
        "\n",
        "X = np.array(x)\n",
        "y = np.array(y)\n",
        "\n",
        "\n",
        "model = LinearRegression()\n",
        "\n",
        "model.fit(X,y)\n",
        "\n",
        "\n",
        "r2_score = model.score(X,y)\n",
        "\n",
        "print(\"Coefficient of Determination -> \", r2_score)\n",
        "\n",
        "print(\"Model Intercept => \", model.intercept_)\n",
        "\n",
        "print(\"Slope => \", model.coef_)"
      ],
      "metadata": {
        "colab": {
          "base_uri": "https://localhost:8080/"
        },
        "id": "3O5oCNU3e7FT",
        "outputId": "7ed95b8c-854c-4115-d9f6-414eec7ccc22"
      },
      "execution_count": null,
      "outputs": [
        {
          "output_type": "stream",
          "name": "stdout",
          "text": [
            "Coefficient of Determination ->  0.8615939258756775\n",
            "Model Intercept =>  5.52257927519819\n",
            "Slope =>  [0.44706965 0.25502548]\n"
          ]
        }
      ]
    },
    {
      "cell_type": "markdown",
      "source": [
        "**Linear Regression using statsmodels**"
      ],
      "metadata": {
        "id": "4QcUZL3BfLZ7"
      }
    },
    {
      "cell_type": "code",
      "source": [
        "x = [[0,1], [5,1], [15,2], [25,5], [35,11], [45,15], [55,34], [60,35]]\n",
        "y = [4,5,20,14,32,22,38,43]\n",
        "\n",
        "x, y = np.array(x), np.array(y)\n",
        "\n",
        "\n",
        "x = sm.add_constant(x)\n",
        "\n",
        "model = sm.OLS(y, x)\n",
        "\n",
        "\n",
        "results = model.fit()\n",
        "\n",
        "print(results.summary())"
      ],
      "metadata": {
        "colab": {
          "base_uri": "https://localhost:8080/"
        },
        "id": "bgiLLCAxfNDW",
        "outputId": "6f4b53cb-84db-4d60-cdef-2bc2d426f9c7"
      },
      "execution_count": null,
      "outputs": [
        {
          "output_type": "stream",
          "name": "stdout",
          "text": [
            "                            OLS Regression Results                            \n",
            "==============================================================================\n",
            "Dep. Variable:                      y   R-squared:                       0.862\n",
            "Model:                            OLS   Adj. R-squared:                  0.806\n",
            "Method:                 Least Squares   F-statistic:                     15.56\n",
            "Date:                Thu, 03 Nov 2022   Prob (F-statistic):            0.00713\n",
            "Time:                        17:41:50   Log-Likelihood:                -24.316\n",
            "No. Observations:                   8   AIC:                             54.63\n",
            "Df Residuals:                       5   BIC:                             54.87\n",
            "Df Model:                           2                                         \n",
            "Covariance Type:            nonrobust                                         \n",
            "==============================================================================\n",
            "                 coef    std err          t      P>|t|      [0.025      0.975]\n",
            "------------------------------------------------------------------------------\n",
            "const          5.5226      4.431      1.246      0.268      -5.867      16.912\n",
            "x1             0.4471      0.285      1.567      0.178      -0.286       1.180\n",
            "x2             0.2550      0.453      0.563      0.598      -0.910       1.420\n",
            "==============================================================================\n",
            "Omnibus:                        0.561   Durbin-Watson:                   3.268\n",
            "Prob(Omnibus):                  0.755   Jarque-Bera (JB):                0.534\n",
            "Skew:                           0.380   Prob(JB):                        0.766\n",
            "Kurtosis:                       1.987   Cond. No.                         80.1\n",
            "==============================================================================\n",
            "\n",
            "Notes:\n",
            "[1] Standard Errors assume that the covariance matrix of the errors is correctly specified.\n"
          ]
        },
        {
          "output_type": "stream",
          "name": "stderr",
          "text": [
            "/usr/local/lib/python3.7/dist-packages/scipy/stats/stats.py:1542: UserWarning: kurtosistest only valid for n>=20 ... continuing anyway, n=8\n",
            "  \"anyway, n=%i\" % int(n))\n"
          ]
        }
      ]
    },
    {
      "cell_type": "code",
      "source": [
        "print(\"Coefficient of Determination -> \", results.rsquared)\n",
        "\n",
        "print(\"Adjusted Coefficient of Determination => \", results.rsquared_adj)\n",
        "\n",
        "print(\"Regression coefficients => \", results.params)"
      ],
      "metadata": {
        "colab": {
          "base_uri": "https://localhost:8080/"
        },
        "id": "-Lgz4KWWfYim",
        "outputId": "f3fb25e5-5296-4ed6-b044-35dd91209f2b"
      },
      "execution_count": null,
      "outputs": [
        {
          "output_type": "stream",
          "name": "stdout",
          "text": [
            "Coefficient of Determination ->  0.8615939258756776\n",
            "Adjusted Coefficient of Determination =>  0.8062314962259487\n",
            "Regression coefficients =>  [5.52257928 0.44706965 0.25502548]\n"
          ]
        }
      ]
    }
  ]
}